{
 "cells": [
  {
   "cell_type": "code",
   "execution_count": null,
   "id": "0e4a7a98-2552-49c6-9707-8287585cbd7d",
   "metadata": {},
   "outputs": [],
   "source": [
    "import pm4py\n",
    "import pandas as pd\n",
    "\n",
    "log = pm4py.read_xes(\"/Users/Desktop/event_logs/abc.xes\")\n",
    "df = pm4py.convert_to_dataframe(log)\n",
    "filteredDf = df[[\"case:concept:name\", \"concept:name\", \"time:timestamp\"]]\n",
    "filteredDf.to_csv(\"/Users/Desktop/event_logs/abc_converted.csv\")\n",
    "pm4py.write_xes(filteredDf, \"/Users/Desktop/event_logs/abc_converted.xes\", case_id_key='case:concept:name')"
   ]
  }
 ],
 "metadata": {
  "kernelspec": {
   "display_name": "Python 3 (ipykernel)",
   "language": "python",
   "name": "python3"
  },
  "language_info": {
   "codemirror_mode": {
    "name": "ipython",
    "version": 3
   },
   "file_extension": ".py",
   "mimetype": "text/x-python",
   "name": "python",
   "nbconvert_exporter": "python",
   "pygments_lexer": "ipython3",
   "version": "3.12.1"
  }
 },
 "nbformat": 4,
 "nbformat_minor": 5
}
