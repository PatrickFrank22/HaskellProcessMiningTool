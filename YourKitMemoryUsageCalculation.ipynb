{
 "cells": [
  {
   "cell_type": "code",
   "execution_count": null,
   "id": "be972fe0-ee93-459d-b2eb-26801b7d16f6",
   "metadata": {},
   "outputs": [],
   "source": [
    "import pandas as pd\n",
    "\n",
    "df_start = pd.read_csv('Chart-Memory-Heap-All-pools-Used-memory_start.csv')\n",
    "df_end = pd.read_csv('Chart-Memory-Heap-All-pools-Used-memory_end.csv')\n",
    "used_memory_start = df_start['Used memory (bytes)'].tolist()\n",
    "used_memory_end = df_end['Used memory (bytes)'].tolist()\n",
    "\n",
    "def calculate_all_differences(data):\n",
    "\n",
    "    currentLowestPoint = data[0] # get first element of list\n",
    "    currentHighestPoint = data[0]\n",
    "    increasingValues = False\n",
    "    if data[1] > data[0]:  \n",
    "        increasingValues = True\n",
    "    sum = 0\n",
    "    \n",
    "    for value in data:\n",
    "\n",
    "        if increasingValues == True: # rising edge\n",
    "\n",
    "            if value > currentHighestPoint:\n",
    "                currentHighestPoint = value # values are increasing\n",
    "\n",
    "            else: # we reached highest point\n",
    "                sum += (currentHighestPoint - currentLowestPoint)\n",
    "                increasingValues = False # values are now decreasing\n",
    "                currentLowestPoint = currentHighestPoint # current highest point becomes current lowest point\n",
    "\n",
    "        else: # falling edge\n",
    "\n",
    "            if value < currentLowestPoint:\n",
    "                currentLowestPoint = value # values are decreasing\n",
    "            \n",
    "            else: # we reached lowest point\n",
    "                increasingValues = True # values are now increasing\n",
    "                currentHighestPoint = currentLowestPoint # current lowest point becomes current highest point\n",
    "\n",
    "    if increasingValues == True:\n",
    "        sum += (currentHighestPoint - currentLowestPoint) # in case no new highest point was found before terminating\n",
    "    return sum\n",
    "\n",
    "result_start = calculate_all_differences(used_memory_start) / pow(1024, 2)\n",
    "result_end = calculate_all_differences(used_memory_end) / pow(1024, 2)\n",
    "\n",
    "print(\"The memory used in MiB: \", round(result_end - result_start, 2))"
   ]
  }
 ],
 "metadata": {
  "kernelspec": {
   "display_name": "Python 3 (ipykernel)",
   "language": "python",
   "name": "python3"
  },
  "language_info": {
   "codemirror_mode": {
    "name": "ipython",
    "version": 3
   },
   "file_extension": ".py",
   "mimetype": "text/x-python",
   "name": "python",
   "nbconvert_exporter": "python",
   "pygments_lexer": "ipython3",
   "version": "3.12.1"
  }
 },
 "nbformat": 4,
 "nbformat_minor": 5
}
